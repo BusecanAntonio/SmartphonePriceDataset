{
 "cells": [
  {
   "metadata": {
    "ExecuteTime": {
     "end_time": "2025-05-06T12:27:30.991939Z",
     "start_time": "2025-05-06T12:27:30.980811Z"
    }
   },
   "cell_type": "code",
   "source": [
    "%matplotlib inline\n",
    "import dataset\n",
    "from sklearn.preprocessing import LabelEncoder\n",
    "from xgboost import XGBRegressor\n",
    "from sklearn.model_selection import train_test_split\n",
    "from sklearn.linear_model import LinearRegression\n",
    "from sklearn.metrics import mean_squared_error, r2_score\n",
    "from sklearn.preprocessing import StandardScaler\n",
    "from scipy import stats\n",
    "import pandas as pd\n",
    "import seaborn as sns\n",
    "import numpy as np\n",
    "import matplotlib.pyplot as plt\n",
    "import matplotlib\n",
    "matplotlib.use('TkAgg')"
   ],
   "id": "8f4c914adaf1f5a3",
   "outputs": [],
   "execution_count": 350
  },
  {
   "metadata": {
    "ExecuteTime": {
     "end_time": "2025-05-06T12:27:31.070967Z",
     "start_time": "2025-05-06T12:27:31.013274Z"
    }
   },
   "cell_type": "code",
   "source": [
    "df = pd.read_csv(r\"C:\\Users\\andre\\OneDrive\\Documente\\GitHub\\Smartphone dataset price\\SmartphonePriceDataset\\smartphones.csv\")\n",
    "df['Storage'] = df['Storage'].apply(lambda x: 32 if x < 32 else x)\n",
    "df.fillna(df.median(numeric_only=True), inplace=True)\n",
    "bins = [60, 200, 500, 1000, 2200]\n",
    "labels = ['low', 'medium', 'high', 'premium']\n",
    "df['Price Category'] = pd.cut(df['Final Price'], bins=bins, labels=labels)\n",
    "df\n",
    "\n"
   ],
   "id": "15f95863e0eca52",
   "outputs": [
    {
     "data": {
      "text/plain": [
       "                                            Smartphone     Brand  \\\n",
       "0                   Realme C55 8/256GB Sunshower Libre    Realme   \n",
       "1             Samsung Galaxy M23 5G 4/128GB Azul Libre   Samsung   \n",
       "2         Motorola Moto G13 4/128GB Azul Lavanda Libre  Motorola   \n",
       "3             Xiaomi Redmi Note 11S 6/128GB Gris Libre    Xiaomi   \n",
       "4              Nothing Phone (2) 12/512GB Blanco Libre   Nothing   \n",
       "...                                                ...       ...   \n",
       "1811             Xiaomi Redmi Note 8 4/64GB Azul Libre    Xiaomi   \n",
       "1812   Xiaomi Redmi Note 8T 4/128GB Azul Estelar Libre    Xiaomi   \n",
       "1813          Xiaomi Redmi Note 9 4/128GB Blanco Libre    Xiaomi   \n",
       "1814   Xiaomi Redmi Note 9S 4/64GB Dual SIM Gris Libre    Xiaomi   \n",
       "1815  Xiaomi Redmi Note 9S 6/128GB Dual SIM Gris Libre    Xiaomi   \n",
       "\n",
       "               Model   RAM  Storage   Color Free  Final Price Price Category  \n",
       "0                C55   8.0    256.0  Yellow  Yes       231.60         medium  \n",
       "1         Galaxy M23   4.0    128.0    Blue  Yes       279.00         medium  \n",
       "2           Moto G13   4.0    128.0    Blue  Yes       179.01            low  \n",
       "3     Redmi Note 11S   6.0    128.0    Gray  Yes       279.99         medium  \n",
       "4          Phone (2)  12.0    512.0   White  Yes       799.00           high  \n",
       "...              ...   ...      ...     ...  ...          ...            ...  \n",
       "1811    Redmi Note 8   4.0     64.0    Blue  Yes       249.01         medium  \n",
       "1812   Redmi Note 8T   4.0    128.0    Blue  Yes       200.00            low  \n",
       "1813    Redmi Note 9   4.0    128.0   White  Yes       269.00         medium  \n",
       "1814         Note 9S   4.0     64.0    Gray  Yes       211.00         medium  \n",
       "1815         Note 9S   6.0    128.0    Gray  Yes       289.00         medium  \n",
       "\n",
       "[1816 rows x 9 columns]"
      ],
      "text/html": [
       "<div>\n",
       "<style scoped>\n",
       "    .dataframe tbody tr th:only-of-type {\n",
       "        vertical-align: middle;\n",
       "    }\n",
       "\n",
       "    .dataframe tbody tr th {\n",
       "        vertical-align: top;\n",
       "    }\n",
       "\n",
       "    .dataframe thead th {\n",
       "        text-align: right;\n",
       "    }\n",
       "</style>\n",
       "<table border=\"1\" class=\"dataframe\">\n",
       "  <thead>\n",
       "    <tr style=\"text-align: right;\">\n",
       "      <th></th>\n",
       "      <th>Smartphone</th>\n",
       "      <th>Brand</th>\n",
       "      <th>Model</th>\n",
       "      <th>RAM</th>\n",
       "      <th>Storage</th>\n",
       "      <th>Color</th>\n",
       "      <th>Free</th>\n",
       "      <th>Final Price</th>\n",
       "      <th>Price Category</th>\n",
       "    </tr>\n",
       "  </thead>\n",
       "  <tbody>\n",
       "    <tr>\n",
       "      <th>0</th>\n",
       "      <td>Realme C55 8/256GB Sunshower Libre</td>\n",
       "      <td>Realme</td>\n",
       "      <td>C55</td>\n",
       "      <td>8.0</td>\n",
       "      <td>256.0</td>\n",
       "      <td>Yellow</td>\n",
       "      <td>Yes</td>\n",
       "      <td>231.60</td>\n",
       "      <td>medium</td>\n",
       "    </tr>\n",
       "    <tr>\n",
       "      <th>1</th>\n",
       "      <td>Samsung Galaxy M23 5G 4/128GB Azul Libre</td>\n",
       "      <td>Samsung</td>\n",
       "      <td>Galaxy M23</td>\n",
       "      <td>4.0</td>\n",
       "      <td>128.0</td>\n",
       "      <td>Blue</td>\n",
       "      <td>Yes</td>\n",
       "      <td>279.00</td>\n",
       "      <td>medium</td>\n",
       "    </tr>\n",
       "    <tr>\n",
       "      <th>2</th>\n",
       "      <td>Motorola Moto G13 4/128GB Azul Lavanda Libre</td>\n",
       "      <td>Motorola</td>\n",
       "      <td>Moto G13</td>\n",
       "      <td>4.0</td>\n",
       "      <td>128.0</td>\n",
       "      <td>Blue</td>\n",
       "      <td>Yes</td>\n",
       "      <td>179.01</td>\n",
       "      <td>low</td>\n",
       "    </tr>\n",
       "    <tr>\n",
       "      <th>3</th>\n",
       "      <td>Xiaomi Redmi Note 11S 6/128GB Gris Libre</td>\n",
       "      <td>Xiaomi</td>\n",
       "      <td>Redmi Note 11S</td>\n",
       "      <td>6.0</td>\n",
       "      <td>128.0</td>\n",
       "      <td>Gray</td>\n",
       "      <td>Yes</td>\n",
       "      <td>279.99</td>\n",
       "      <td>medium</td>\n",
       "    </tr>\n",
       "    <tr>\n",
       "      <th>4</th>\n",
       "      <td>Nothing Phone (2) 12/512GB Blanco Libre</td>\n",
       "      <td>Nothing</td>\n",
       "      <td>Phone (2)</td>\n",
       "      <td>12.0</td>\n",
       "      <td>512.0</td>\n",
       "      <td>White</td>\n",
       "      <td>Yes</td>\n",
       "      <td>799.00</td>\n",
       "      <td>high</td>\n",
       "    </tr>\n",
       "    <tr>\n",
       "      <th>...</th>\n",
       "      <td>...</td>\n",
       "      <td>...</td>\n",
       "      <td>...</td>\n",
       "      <td>...</td>\n",
       "      <td>...</td>\n",
       "      <td>...</td>\n",
       "      <td>...</td>\n",
       "      <td>...</td>\n",
       "      <td>...</td>\n",
       "    </tr>\n",
       "    <tr>\n",
       "      <th>1811</th>\n",
       "      <td>Xiaomi Redmi Note 8 4/64GB Azul Libre</td>\n",
       "      <td>Xiaomi</td>\n",
       "      <td>Redmi Note 8</td>\n",
       "      <td>4.0</td>\n",
       "      <td>64.0</td>\n",
       "      <td>Blue</td>\n",
       "      <td>Yes</td>\n",
       "      <td>249.01</td>\n",
       "      <td>medium</td>\n",
       "    </tr>\n",
       "    <tr>\n",
       "      <th>1812</th>\n",
       "      <td>Xiaomi Redmi Note 8T 4/128GB Azul Estelar Libre</td>\n",
       "      <td>Xiaomi</td>\n",
       "      <td>Redmi Note 8T</td>\n",
       "      <td>4.0</td>\n",
       "      <td>128.0</td>\n",
       "      <td>Blue</td>\n",
       "      <td>Yes</td>\n",
       "      <td>200.00</td>\n",
       "      <td>low</td>\n",
       "    </tr>\n",
       "    <tr>\n",
       "      <th>1813</th>\n",
       "      <td>Xiaomi Redmi Note 9 4/128GB Blanco Libre</td>\n",
       "      <td>Xiaomi</td>\n",
       "      <td>Redmi Note 9</td>\n",
       "      <td>4.0</td>\n",
       "      <td>128.0</td>\n",
       "      <td>White</td>\n",
       "      <td>Yes</td>\n",
       "      <td>269.00</td>\n",
       "      <td>medium</td>\n",
       "    </tr>\n",
       "    <tr>\n",
       "      <th>1814</th>\n",
       "      <td>Xiaomi Redmi Note 9S 4/64GB Dual SIM Gris Libre</td>\n",
       "      <td>Xiaomi</td>\n",
       "      <td>Note 9S</td>\n",
       "      <td>4.0</td>\n",
       "      <td>64.0</td>\n",
       "      <td>Gray</td>\n",
       "      <td>Yes</td>\n",
       "      <td>211.00</td>\n",
       "      <td>medium</td>\n",
       "    </tr>\n",
       "    <tr>\n",
       "      <th>1815</th>\n",
       "      <td>Xiaomi Redmi Note 9S 6/128GB Dual SIM Gris Libre</td>\n",
       "      <td>Xiaomi</td>\n",
       "      <td>Note 9S</td>\n",
       "      <td>6.0</td>\n",
       "      <td>128.0</td>\n",
       "      <td>Gray</td>\n",
       "      <td>Yes</td>\n",
       "      <td>289.00</td>\n",
       "      <td>medium</td>\n",
       "    </tr>\n",
       "  </tbody>\n",
       "</table>\n",
       "<p>1816 rows × 9 columns</p>\n",
       "</div>"
      ]
     },
     "execution_count": 351,
     "metadata": {},
     "output_type": "execute_result"
    }
   ],
   "execution_count": 351
  },
  {
   "metadata": {
    "ExecuteTime": {
     "end_time": "2025-05-06T12:27:31.231550Z",
     "start_time": "2025-05-06T12:27:31.220028Z"
    }
   },
   "cell_type": "code",
   "source": [
    "Q1 = df['Final Price'].quantile(0.25)\n",
    "Q3 = df['Final Price'].quantile(0.75)\n",
    "IQR = Q3 - Q1\n",
    "lower_bound = Q1 - 1.5 * IQR\n",
    "upper_bound = Q3 + 1.5 * IQR\n",
    "\n",
    "df = df[(df['Final Price'] >= lower_bound) & (df['Final Price'] <= upper_bound)]\n"
   ],
   "id": "ddba44ae9deb2850",
   "outputs": [],
   "execution_count": 352
  },
  {
   "metadata": {
    "ExecuteTime": {
     "end_time": "2025-05-06T12:27:31.307135Z",
     "start_time": "2025-05-06T12:27:31.299305Z"
    }
   },
   "cell_type": "code",
   "source": [
    "text = '''Datasetul este format din 1816 randuri si este pe 9 coloane:\n",
    "1. Numele Smartphone-ului\n",
    "2. Modelul\n",
    "3. RAM (Memorie cu Acces Aleator)\n",
    "4. Spatiul de Stocare\n",
    "5. Culoare\n",
    "6. Free (indica daca are sau nu un contract cu o companie de telefonie mobila)\n",
    "7. Pretul smartphone-ului\n",
    "8. Categorie de Pret : consta luxul telefonului bazat pe intru-n interval de pret\n",
    "idei-------------------:Numar de vanzari'''\n",
    "\n",
    "print(text)\n"
   ],
   "id": "3131cbc306f66268",
   "outputs": [
    {
     "name": "stdout",
     "output_type": "stream",
     "text": [
      "Datasetul este format din 1816 randuri si este pe 9 coloane:\n",
      "1. Numele Smartphone-ului\n",
      "2. Modelul\n",
      "3. RAM (Memorie cu Acces Aleator)\n",
      "4. Spatiul de Stocare\n",
      "5. Culoare\n",
      "6. Free (indica daca are sau nu un contract cu o companie de telefonie mobila)\n",
      "7. Pretul smartphone-ului\n",
      "8. Categorie de Pret : consta luxul telefonului bazat pe intru-n interval de pret\n",
      "idei-------------------:Numar de vanzari\n"
     ]
    }
   ],
   "execution_count": 353
  },
  {
   "metadata": {
    "ExecuteTime": {
     "end_time": "2025-05-06T12:27:31.540803Z",
     "start_time": "2025-05-06T12:27:31.535271Z"
    }
   },
   "cell_type": "code",
   "source": [
    "print(f\"Numar de randuri: {df.shape[0]}\")\n",
    "print(f\"Numar de coloane: {df.shape[1]}\")"
   ],
   "id": "78e129c2300a97e3",
   "outputs": [
    {
     "name": "stdout",
     "output_type": "stream",
     "text": [
      "Numar de randuri: 1722\n",
      "Numar de coloane: 9\n"
     ]
    }
   ],
   "execution_count": 354
  },
  {
   "metadata": {
    "ExecuteTime": {
     "end_time": "2025-05-06T12:27:31.592335Z",
     "start_time": "2025-05-06T12:27:31.566750Z"
    }
   },
   "cell_type": "code",
   "source": [
    "print(\"Coloanele datasetului sunt:\")\n",
    "print(df.columns)\n",
    "print(\"\\n\")\n",
    "print(\"Tipurile de dataset-ului :\\n\")\n",
    "print(df.dtypes)\n",
    "print(\"\\n\")\n",
    "print(df.describe())\n",
    "print(\"\\n\")\n",
    "\n",
    "print(\"Valori Not A Number : \")\n",
    "print(df.isnull().sum())\n",
    "print(df.describe())\n"
   ],
   "id": "e9884d690b88285d",
   "outputs": [
    {
     "name": "stdout",
     "output_type": "stream",
     "text": [
      "Coloanele datasetului sunt:\n",
      "Index(['Smartphone', 'Brand', 'Model', 'RAM', 'Storage', 'Color', 'Free',\n",
      "       'Final Price', 'Price Category'],\n",
      "      dtype='object')\n",
      "\n",
      "\n",
      "Tipurile de dataset-ului :\n",
      "\n",
      "Smartphone          object\n",
      "Brand               object\n",
      "Model               object\n",
      "RAM                float64\n",
      "Storage            float64\n",
      "Color               object\n",
      "Free                object\n",
      "Final Price        float64\n",
      "Price Category    category\n",
      "dtype: object\n",
      "\n",
      "\n",
      "               RAM      Storage  Final Price\n",
      "count  1722.000000  1722.000000  1722.000000\n",
      "mean      5.901278   145.119628   430.052178\n",
      "std       2.257046   101.003683   300.486656\n",
      "min       1.000000    32.000000    60.460000\n",
      "25%       4.000000    64.000000   199.000000\n",
      "50%       6.000000   128.000000   327.990000\n",
      "75%       8.000000   256.000000   589.000000\n",
      "max      12.000000  1000.000000  1326.030000\n",
      "\n",
      "\n",
      "Valori Not A Number : \n",
      "Smartphone        0\n",
      "Brand             0\n",
      "Model             0\n",
      "RAM               0\n",
      "Storage           0\n",
      "Color             0\n",
      "Free              0\n",
      "Final Price       0\n",
      "Price Category    0\n",
      "dtype: int64\n",
      "               RAM      Storage  Final Price\n",
      "count  1722.000000  1722.000000  1722.000000\n",
      "mean      5.901278   145.119628   430.052178\n",
      "std       2.257046   101.003683   300.486656\n",
      "min       1.000000    32.000000    60.460000\n",
      "25%       4.000000    64.000000   199.000000\n",
      "50%       6.000000   128.000000   327.990000\n",
      "75%       8.000000   256.000000   589.000000\n",
      "max      12.000000  1000.000000  1326.030000\n"
     ]
    }
   ],
   "execution_count": 355
  },
  {
   "metadata": {
    "ExecuteTime": {
     "end_time": "2025-05-06T12:27:33.208582Z",
     "start_time": "2025-05-06T12:27:31.690126Z"
    }
   },
   "cell_type": "code",
   "source": [
    "\n",
    "plt.figure(figsize=(8, 6))\n",
    "df['Final Price'].hist(bins=30, edgecolor='black')\n",
    "plt.title('Distributia Preturilor')\n",
    "plt.xlabel('Final Price')\n",
    "plt.ylabel('Frecventa')\n",
    "plt.show(block=True)\n"
   ],
   "id": "d5883a6e876c97e9",
   "outputs": [],
   "execution_count": 356
  },
  {
   "metadata": {
    "ExecuteTime": {
     "end_time": "2025-05-06T12:27:33.313389Z",
     "start_time": "2025-05-06T12:27:33.306750Z"
    }
   },
   "cell_type": "code",
   "source": [
    "def gini_index(data, target_column):\n",
    "    class_counts = data[target_column].value_counts(normalize=True)\n",
    "    gini = 1 - sum(class_counts**2)\n",
    "    return gini\n",
    "\n",
    "gini = gini_index(df, 'Price Category')\n",
    "print(f\"Gini Index pentru 'Price Category': {gini}\")"
   ],
   "id": "cde8e04597a8b309",
   "outputs": [
    {
     "name": "stdout",
     "output_type": "stream",
     "text": [
      "Gini Index pentru 'Price Category': 0.6860192817956055\n"
     ]
    }
   ],
   "execution_count": 357
  },
  {
   "metadata": {
    "ExecuteTime": {
     "end_time": "2025-05-06T12:27:33.443181Z",
     "start_time": "2025-05-06T12:27:33.417477Z"
    }
   },
   "cell_type": "code",
   "source": [
    "def gini_for_attribute(data, attribute, target_column):\n",
    "    grouped = data.groupby(attribute)\n",
    "    gini_values = {}\n",
    "\n",
    "    for group, subset in grouped:\n",
    "        gini_values[group] = gini_index(subset, target_column)\n",
    "\n",
    "    return gini_values\n",
    "\n",
    "gini_values_for_brand = gini_for_attribute(df, 'Brand', 'Price Category')\n",
    "print(\"Gini Index pentru fiecare brand:\", gini_values_for_brand)"
   ],
   "id": "c75c645fc3b572a9",
   "outputs": [
    {
     "name": "stdout",
     "output_type": "stream",
     "text": [
      "Gini Index pentru fiecare brand: {'Alcatel': 0.24489795918367352, 'Apple': 0.7097875828153815, 'Asus': 0.6666666666666667, 'BQ': 0.0, 'Blackview': 0.49382716049382713, 'CAT': 0.6111111111111112, 'Crosscall': 0.48979591836734704, 'Cubot': 0.4377162629757785, 'Doro': 0.4444444444444444, 'Fairphone': 0.0, 'Funker': 0.0, 'Gigaset': 0.4444444444444444, 'Google': 0.6666666666666667, 'Hammer': 0.5804988662131519, 'Honor': 0.470414201183432, 'Huawei': 0.5921822099107419, 'LG': 0.0, 'Lenovo': 0.0, 'Maxcom': 0.0, 'Microsoft': 0.0, 'Motorola': 0.6531240381655894, 'Nokia': 0.5416666666666666, 'Nothing': 0.19753086419753085, 'OPPO': 0.6304347826086957, 'OnePlus': 0.48979591836734704, 'POCO': 0.4219202494987747, 'Qubo': 0.0, 'Realme': 0.5785667324128863, 'SPC': 0.0, 'Samsung': 0.6931721737743577, 'Sony': 0.5, 'Swissvoice': 0.0, 'TCL': 0.4521604938271605, 'Ulefone': 0.5711111111111111, 'Vivo': 0.5898491083676268, 'Xiaomi': 0.6021461235950445, 'ZTE': 0.0}\n"
     ]
    }
   ],
   "execution_count": 358
  },
  {
   "metadata": {
    "ExecuteTime": {
     "end_time": "2025-05-06T12:27:33.554187Z",
     "start_time": "2025-05-06T12:27:33.543525Z"
    }
   },
   "cell_type": "code",
   "source": [
    "import numpy as np\n",
    "\n",
    "def entropy(data):\n",
    "    class_counts = data['Price Category'].value_counts(normalize=True)\n",
    "\n",
    "    class_counts = class_counts[class_counts > 0]\n",
    "    return -np.sum(class_counts * np.log2(class_counts))\n",
    "\n",
    "parent_entropy = entropy(df)\n",
    "print(f\"Entropia pentru intregul set de date: {parent_entropy}\")\n"
   ],
   "id": "a29d7abbe95d055c",
   "outputs": [
    {
     "name": "stdout",
     "output_type": "stream",
     "text": [
      "Entropia pentru intregul set de date: 1.7928240994534357\n"
     ]
    }
   ],
   "execution_count": 359
  },
  {
   "metadata": {
    "ExecuteTime": {
     "end_time": "2025-05-06T12:27:33.725841Z",
     "start_time": "2025-05-06T12:27:33.650853Z"
    }
   },
   "cell_type": "code",
   "source": [
    "# Functie pentru calcularea Information Gain pe baza unui atribut\n",
    "def information_gain(data, attribute):\n",
    "    parent_entropy = entropy(data)\n",
    "\n",
    "    grouped = data.groupby(attribute)\n",
    "    weighted_entropy = 0\n",
    "    for group, subset in grouped:\n",
    "        weighted_entropy += (len(subset) / len(data)) * entropy(subset)\n",
    "    return parent_entropy - weighted_entropy\n",
    "\n",
    "info_gain = information_gain(df, 'Brand')\n",
    "print(f\"Information Gain pentru 'Brand': {info_gain}\")\n",
    "info_gain = information_gain(df, 'Storage')\n",
    "print(f\"Information Gain pentru 'Storage': {info_gain}\")\n",
    "info_gain = information_gain(df, 'RAM')\n",
    "print(f\"Information Gain pentru 'RAM': {info_gain}\")\n",
    "info_gain = information_gain(df, 'Brand')\n",
    "print(f\"Information Gain pentru 'Brand': {info_gain}\")"
   ],
   "id": "e452f2b8de400026",
   "outputs": [
    {
     "name": "stdout",
     "output_type": "stream",
     "text": [
      "Information Gain pentru 'Brand': 0.26251049121179326\n",
      "Information Gain pentru 'Storage': 0.3982473850517898\n",
      "Information Gain pentru 'RAM': 0.42673224769343276\n",
      "Information Gain pentru 'Brand': 0.26251049121179326\n"
     ]
    }
   ],
   "execution_count": 360
  },
  {
   "metadata": {
    "ExecuteTime": {
     "end_time": "2025-05-06T12:27:33.830360Z",
     "start_time": "2025-05-06T12:27:33.821966Z"
    }
   },
   "cell_type": "code",
   "source": [
    "# Calcularea corelatiei dintre 'Final Price' și 'RAM','Storage'\n",
    "correlation = df['Final Price'].corr(df['Storage'])\n",
    "print(f\"Corelatia dintre 'Final Price' si 'Storage': {correlation}\")\n",
    "correlation = df['Final Price'].corr(df['RAM'])\n",
    "print(f\"Corelatia dintre 'Final Price' si 'RAM': {correlation}\")"
   ],
   "id": "451acfb1a9de285b",
   "outputs": [
    {
     "name": "stdout",
     "output_type": "stream",
     "text": [
      "Corelatia dintre 'Final Price' si 'Storage': 0.5821433839604104\n",
      "Corelatia dintre 'Final Price' si 'RAM': 0.4946746366627295\n"
     ]
    }
   ],
   "execution_count": 361
  },
  {
   "metadata": {
    "ExecuteTime": {
     "end_time": "2025-05-06T12:27:33.940820Z",
     "start_time": "2025-05-06T12:27:33.930467Z"
    }
   },
   "cell_type": "code",
   "source": [
    "numeric_columns = df.select_dtypes(include=['number'])\n",
    "numeric_columns"
   ],
   "id": "b01e16664b8b6b42",
   "outputs": [
    {
     "data": {
      "text/plain": [
       "       RAM  Storage  Final Price\n",
       "0      8.0    256.0       231.60\n",
       "1      4.0    128.0       279.00\n",
       "2      4.0    128.0       179.01\n",
       "3      6.0    128.0       279.99\n",
       "4     12.0    512.0       799.00\n",
       "...    ...      ...          ...\n",
       "1811   4.0     64.0       249.01\n",
       "1812   4.0    128.0       200.00\n",
       "1813   4.0    128.0       269.00\n",
       "1814   4.0     64.0       211.00\n",
       "1815   6.0    128.0       289.00\n",
       "\n",
       "[1722 rows x 3 columns]"
      ],
      "text/html": [
       "<div>\n",
       "<style scoped>\n",
       "    .dataframe tbody tr th:only-of-type {\n",
       "        vertical-align: middle;\n",
       "    }\n",
       "\n",
       "    .dataframe tbody tr th {\n",
       "        vertical-align: top;\n",
       "    }\n",
       "\n",
       "    .dataframe thead th {\n",
       "        text-align: right;\n",
       "    }\n",
       "</style>\n",
       "<table border=\"1\" class=\"dataframe\">\n",
       "  <thead>\n",
       "    <tr style=\"text-align: right;\">\n",
       "      <th></th>\n",
       "      <th>RAM</th>\n",
       "      <th>Storage</th>\n",
       "      <th>Final Price</th>\n",
       "    </tr>\n",
       "  </thead>\n",
       "  <tbody>\n",
       "    <tr>\n",
       "      <th>0</th>\n",
       "      <td>8.0</td>\n",
       "      <td>256.0</td>\n",
       "      <td>231.60</td>\n",
       "    </tr>\n",
       "    <tr>\n",
       "      <th>1</th>\n",
       "      <td>4.0</td>\n",
       "      <td>128.0</td>\n",
       "      <td>279.00</td>\n",
       "    </tr>\n",
       "    <tr>\n",
       "      <th>2</th>\n",
       "      <td>4.0</td>\n",
       "      <td>128.0</td>\n",
       "      <td>179.01</td>\n",
       "    </tr>\n",
       "    <tr>\n",
       "      <th>3</th>\n",
       "      <td>6.0</td>\n",
       "      <td>128.0</td>\n",
       "      <td>279.99</td>\n",
       "    </tr>\n",
       "    <tr>\n",
       "      <th>4</th>\n",
       "      <td>12.0</td>\n",
       "      <td>512.0</td>\n",
       "      <td>799.00</td>\n",
       "    </tr>\n",
       "    <tr>\n",
       "      <th>...</th>\n",
       "      <td>...</td>\n",
       "      <td>...</td>\n",
       "      <td>...</td>\n",
       "    </tr>\n",
       "    <tr>\n",
       "      <th>1811</th>\n",
       "      <td>4.0</td>\n",
       "      <td>64.0</td>\n",
       "      <td>249.01</td>\n",
       "    </tr>\n",
       "    <tr>\n",
       "      <th>1812</th>\n",
       "      <td>4.0</td>\n",
       "      <td>128.0</td>\n",
       "      <td>200.00</td>\n",
       "    </tr>\n",
       "    <tr>\n",
       "      <th>1813</th>\n",
       "      <td>4.0</td>\n",
       "      <td>128.0</td>\n",
       "      <td>269.00</td>\n",
       "    </tr>\n",
       "    <tr>\n",
       "      <th>1814</th>\n",
       "      <td>4.0</td>\n",
       "      <td>64.0</td>\n",
       "      <td>211.00</td>\n",
       "    </tr>\n",
       "    <tr>\n",
       "      <th>1815</th>\n",
       "      <td>6.0</td>\n",
       "      <td>128.0</td>\n",
       "      <td>289.00</td>\n",
       "    </tr>\n",
       "  </tbody>\n",
       "</table>\n",
       "<p>1722 rows × 3 columns</p>\n",
       "</div>"
      ]
     },
     "execution_count": 362,
     "metadata": {},
     "output_type": "execute_result"
    }
   ],
   "execution_count": 362
  },
  {
   "metadata": {
    "ExecuteTime": {
     "end_time": "2025-05-06T12:27:34.334040Z",
     "start_time": "2025-05-06T12:27:34.089254Z"
    }
   },
   "cell_type": "code",
   "source": [
    "correlation_matrix = numeric_columns.corr()\n",
    "\n",
    "plt.figure(figsize=(8, 6))\n",
    "sns.heatmap(correlation_matrix, annot=True, cmap='coolwarm', fmt=\".2f\")\n",
    "plt.title('Correlation Matrix')\n",
    "plt.show()"
   ],
   "id": "2baea4fb751fcf71",
   "outputs": [],
   "execution_count": 363
  },
  {
   "metadata": {
    "ExecuteTime": {
     "end_time": "2025-05-06T12:27:34.545624Z",
     "start_time": "2025-05-06T12:27:34.520465Z"
    }
   },
   "cell_type": "code",
   "source": [
    "# Codificarea Brand-ului cu LabelEncoder\n",
    "label_encoder = LabelEncoder()\n",
    "df.loc[:, 'Brand'] = label_encoder.fit_transform(df['Brand'])\n",
    "\n",
    "X = df[['RAM', 'Storage', 'Brand']]\n",
    "y = df['Final Price']\n",
    "\n",
    "# Imparțirea datelor in seturi de antrenament si test\n",
    "X_train, X_test, y_train, y_test = train_test_split(X, y, test_size=0.2, random_state=42)\n",
    "\n",
    "# Standardizarea datelor\n",
    "scaler = StandardScaler()\n",
    "X_train_scaled = scaler.fit_transform(X_train)\n",
    "X_test_scaled = scaler.transform(X_test)\n",
    "\n",
    "# Crearea modelului de regresie liniara\n",
    "model = LinearRegression()\n",
    "\n",
    "# Antrenarea modelului\n",
    "model.fit(X_train_scaled, y_train)\n",
    "\n",
    "# Predictiile pe setul de test\n",
    "y_pred = model.predict(X_test_scaled)\n",
    "\n",
    "# Evaluarea performantei\n",
    "rmse = np.sqrt(mean_squared_error(y_test, y_pred))\n",
    "r2 = r2_score(y_test, y_pred)\n",
    "\n",
    "print(f\"RMSE: {rmse}\")\n",
    "print(f\"R²: {r2}\")\n",
    "\n",
    "# Coefficients și interceptul\n",
    "print(f\"Coefficients: {model.coef_}\")\n",
    "print(f\"Intercept: {model.intercept_}\")\n"
   ],
   "id": "eeb8837c57c55d90",
   "outputs": [
    {
     "name": "stdout",
     "output_type": "stream",
     "text": [
      "RMSE: 230.10693633259987\n",
      "R²: 0.38776195759431\n",
      "Coefficients: [ 79.09454916 125.64930835 -66.13554459]\n",
      "Intercept: 430.8810167029775\n"
     ]
    }
   ],
   "execution_count": 364
  },
  {
   "metadata": {
    "ExecuteTime": {
     "end_time": "2025-05-06T12:27:34.784668Z",
     "start_time": "2025-05-06T12:27:34.648372Z"
    }
   },
   "cell_type": "code",
   "source": [
    "from IPython.display import display\n",
    "display(plt.gcf())\n",
    "\n",
    "# Codificarea Brand-ului cu LabelEncoder\n",
    "label_encoder = LabelEncoder()\n",
    "df.loc[:, 'Brand'] = label_encoder.fit_transform(df['Brand'])\n",
    "\n",
    "X = df[['RAM', 'Storage', 'Brand']]\n",
    "y = df['Final Price']\n",
    "\n",
    "# Impartirea datelor in seturi de antrenament si test\n",
    "X_train, X_test, y_train, y_test = train_test_split(X, y, test_size=0.2, random_state=42)\n",
    "\n",
    "# Standardizarea datelor\n",
    "scaler = StandardScaler()\n",
    "X_train_scaled = scaler.fit_transform(X_train)\n",
    "X_test_scaled = scaler.transform(X_test)\n",
    "\n",
    "# Crearea modelului de regresie liniara\n",
    "model = LinearRegression()\n",
    "\n",
    "# Antrenarea modelului\n",
    "model.fit(X_train_scaled, y_train)\n",
    "\n",
    "# Predictiile pe setul de test\n",
    "y_pred = model.predict(X_test_scaled)\n",
    "\n",
    "# Evaluarea performantei\n",
    "rmse = np.sqrt(mean_squared_error(y_test, y_pred))\n",
    "r2 = r2_score(y_test, y_pred)\n",
    "\n",
    "# Afisarea performantei\n",
    "print(f\"RMSE: {rmse}\")\n",
    "print(f\"R²: {r2}\")\n",
    "\n",
    "# Coefficients\n",
    "print(f\"Coefficients: {model.coef_}\")\n",
    "print(f\"Intercept: {model.intercept_}\")"
   ],
   "id": "3a27fa110a09ab1b",
   "outputs": [
    {
     "data": {
      "text/plain": [
       "<Figure size 800x600 with 2 Axes>"
      ],
      "image/png": "[encoded data removed]"
     },
     "metadata": {},
     "output_type": "display_data"
    },
    {
     "name": "stdout",
     "output_type": "stream",
     "text": [
      "RMSE: 230.10693633259987\n",
      "R²: 0.38776195759431\n",
      "Coefficients: [ 79.09454916 125.64930835 -66.13554459]\n",
      "Intercept: 430.8810167029775\n"
     ]
    }
   ],
   "execution_count": 365
  },
  {
   "metadata": {
    "ExecuteTime": {
     "end_time": "2025-05-06T12:27:35.340716Z",
     "start_time": "2025-05-06T12:27:34.912337Z"
    }
   },
   "cell_type": "code",
   "source": [
    "# 1. Real vs Predicted\n",
    "plt.figure(figsize=(8, 6))\n",
    "plt.scatter(y_test, y_pred, color='blue', alpha=0.6)\n",
    "plt.plot([min(y_test), max(y_test)], [min(y_test), max(y_test)], color='red', linestyle='--')\n",
    "plt.title('Real vs Predicted Final Price')\n",
    "plt.xlabel('Real Price')\n",
    "plt.ylabel('Predicted Price')\n",
    "plt.tight_layout()\n",
    "plt.show()\n",
    "\n",
    "# 2. Residual Plot\n",
    "plt.figure(figsize=(8, 6))\n",
    "sns.residplot(x=y_pred, y=y_test - y_pred, color='purple')\n",
    "plt.title('Residual Plot')\n",
    "plt.xlabel('Predicted Price')\n",
    "plt.ylabel('Residuals')\n",
    "plt.tight_layout()\n",
    "plt.show()\n"
   ],
   "id": "c41f0ec70ff1d7d1",
   "outputs": [],
   "execution_count": 366
  },
  {
   "metadata": {
    "ExecuteTime": {
     "end_time": "2025-05-06T12:27:36.680053Z",
     "start_time": "2025-05-06T12:27:36.047684Z"
    }
   },
   "cell_type": "code",
   "source": [
    "from sklearn.ensemble import RandomForestRegressor\n",
    "\n",
    "# Crearea si antrenarea modelului Random Forest\n",
    "rf_model = RandomForestRegressor(n_estimators=100, random_state=42)\n",
    "rf_model.fit(X_train_scaled, y_train)\n",
    "\n",
    "# Predictiile pentru setul de test\n",
    "y_pred_rf = rf_model.predict(X_test_scaled)\n",
    "\n",
    "# Evaluarea performantei modelului Random Forest\n",
    "rmse_rf = np.sqrt(mean_squared_error(y_test, y_pred_rf))\n",
    "r2_rf = r2_score(y_test, y_pred_rf)\n",
    "\n",
    "# Afisarea performantei modelului Random Forest\n",
    "print(f\"Random Forest RMSE: {rmse_rf}\")\n",
    "print(f\"Random Forest R²: {r2_rf}\")\n",
    "\n",
    "\n",
    "plt.figure(figsize=(8, 6))\n",
    "plt.scatter(y_test, y_pred_rf, color='green', alpha=0.6)\n",
    "plt.plot([min(y_test), max(y_test)], [min(y_test), max(y_test)], color='red', linestyle='--')\n",
    "plt.title('Random Forest: Real vs Predicted Final Price')\n",
    "plt.xlabel('Real Price')\n",
    "plt.ylabel('Predicted Price')\n",
    "plt.tight_layout()\n",
    "plt.show()\n",
    "\n",
    "plt.figure(figsize=(8, 6))\n",
    "sns.residplot(x=y_pred_rf, y=y_test - y_pred_rf, color='orange')\n",
    "plt.title('Random Forest: Residual Plot')\n",
    "plt.xlabel('Predicted Price')\n",
    "plt.ylabel('Residuals')\n",
    "plt.tight_layout()\n",
    "plt.show()\n"
   ],
   "id": "ff9a617e7b5228f3",
   "outputs": [
    {
     "name": "stdout",
     "output_type": "stream",
     "text": [
      "Random Forest RMSE: 188.7653350359307\n",
      "Random Forest R²: 0.5879922572419309\n"
     ]
    }
   ],
   "execution_count": 367
  },
  {
   "metadata": {
    "ExecuteTime": {
     "end_time": "2025-05-06T12:27:37.687054Z",
     "start_time": "2025-05-06T12:27:37.150924Z"
    }
   },
   "cell_type": "code",
   "source": [
    "\n",
    "# Crearea si antrenarea modelului XGBoost\n",
    "xgb_model = XGBRegressor(n_estimators=100, random_state=42)\n",
    "xgb_model.fit(X_train_scaled, y_train)\n",
    "\n",
    "# Predictiile pentru setul de test\n",
    "y_pred_xgb = xgb_model.predict(X_test_scaled)\n",
    "\n",
    "# Evaluarea performantei modelului XGBoost\n",
    "rmse_xgb = np.sqrt(mean_squared_error(y_test, y_pred_xgb))\n",
    "r2_xgb = r2_score(y_test, y_pred_xgb)\n",
    "\n",
    "# Afisarea performaantei modelului XGBoost\n",
    "print(f\"XGBoost RMSE: {rmse_xgb}\")\n",
    "print(f\"XGBoost R²: {r2_xgb}\")\n",
    "\n",
    "plt.figure(figsize=(8, 6))\n",
    "plt.scatter(y_test, y_pred_xgb, color='red', alpha=0.6)\n",
    "plt.plot([min(y_test), max(y_test)], [min(y_test), max(y_test)], color='black', linestyle='--')\n",
    "plt.title('XGBoost: Real vs Predicted Final Price')\n",
    "plt.xlabel('Real Price')\n",
    "plt.ylabel('Predicted Price')\n",
    "plt.tight_layout()\n",
    "plt.show()\n",
    "\n",
    "plt.figure(figsize=(8, 6))\n",
    "sns.residplot(x=y_pred_xgb, y=y_test - y_pred_xgb, color='blue')\n",
    "plt.title('XGBoost: Residual Plot')\n",
    "plt.xlabel('Predicted Price')\n",
    "plt.ylabel('Residuals')\n",
    "plt.tight_layout()\n",
    "plt.show()\n"
   ],
   "id": "8eed1e67640010ea",
   "outputs": [
    {
     "name": "stdout",
     "output_type": "stream",
     "text": [
      "XGBoost RMSE: 188.4150143233719\n",
      "XGBoost R²: 0.5895200898163502\n"
     ]
    }
   ],
   "execution_count": 368
  },
  {
   "metadata": {
    "ExecuteTime": {
     "end_time": "2025-05-06T12:27:38.237989Z",
     "start_time": "2025-05-06T12:27:38.227704Z"
    }
   },
   "cell_type": "code",
   "source": [
    "# Compararea RMSE si R² ale fiecarui model\n",
    "models = ['Linear Regression', 'Random Forest', 'XGBoost']\n",
    "rmse_values = [rmse, rmse_rf, rmse_xgb]\n",
    "r2_values = [r2, r2_rf, r2_xgb]\n",
    "\n",
    "comparison_df = pd.DataFrame({\n",
    "    'Model': models,\n",
    "    'RMSE': rmse_values,\n",
    "    'R²': r2_values\n",
    "})\n",
    "\n",
    "print(comparison_df)\n"
   ],
   "id": "81155889ad8f4917",
   "outputs": [
    {
     "name": "stdout",
     "output_type": "stream",
     "text": [
      "               Model        RMSE        R²\n",
      "0  Linear Regression  230.106936  0.387762\n",
      "1      Random Forest  188.765335  0.587992\n",
      "2            XGBoost  188.415014  0.589520\n"
     ]
    }
   ],
   "execution_count": 369
  },
  {
   "metadata": {
    "ExecuteTime": {
     "end_time": "2025-05-06T12:27:38.324241Z",
     "start_time": "2025-05-06T12:27:38.319097Z"
    }
   },
   "cell_type": "code",
   "source": [
    "text = '''Dupa parerea mea cel mai bun algoritm pe care il pot folosi in momentul de fata este \"XGBoost  188.415014  0.589520\" '''\n",
    "\n",
    "print(text)\n"
   ],
   "id": "74bf8b26e23d47bc",
   "outputs": [
    {
     "name": "stdout",
     "output_type": "stream",
     "text": [
      "Dupa parerea mea cel mai bun algoritm pe care il pot folosi in momentul de fata este \"XGBoost  188.415014  0.589520\" \n"
     ]
    }
   ],
   "execution_count": 370
  },
  {
   "metadata": {
    "ExecuteTime": {
     "end_time": "2025-05-06T12:27:43.830571Z",
     "start_time": "2025-05-06T12:27:38.482808Z"
    }
   },
   "cell_type": "code",
   "source": [
    "from sklearn.model_selection import RandomizedSearchCV\n",
    "from xgboost import XGBRegressor\n",
    "\n",
    "# Set de hiperparametri pentru cautare\n",
    "param_grid = {\n",
    "    'n_estimators': [100, 200, 300],\n",
    "    'max_depth': [3, 5, 7, 10],\n",
    "    'learning_rate': [0.01, 0.05, 0.1, 0.2],\n",
    "    'subsample': [0.6, 0.8, 1.0],\n",
    "    'colsample_bytree': [0.6, 0.8, 1.0]\n",
    "}\n",
    "\n",
    "# Model de baza\n",
    "xgb = XGBRegressor(random_state=42)\n",
    "\n",
    "# Randomized search\n",
    "random_search = RandomizedSearchCV(\n",
    "    estimator=xgb,\n",
    "    param_distributions=param_grid,\n",
    "    n_iter=30,\n",
    "    scoring='neg_mean_squared_error',\n",
    "    cv=5,\n",
    "    verbose=1,\n",
    "    random_state=42,\n",
    "    n_jobs=-1\n",
    ")\n",
    "\n",
    "# Antrenarea cu datele standardizate\n",
    "random_search.fit(X_train_scaled, y_train)\n",
    "\n",
    "# Cel mai bun model\n",
    "best_xgb = random_search.best_estimator_\n",
    "\n",
    "# Evaluarea pe setul de test\n",
    "y_pred_best = best_xgb.predict(X_test_scaled)\n",
    "\n",
    "rmse_best = np.sqrt(mean_squared_error(y_test, y_pred_best))\n",
    "r2_best = r2_score(y_test, y_pred_best)\n",
    "\n",
    "print(\"Cei mai buni hiperparametri:\", random_search.best_params_)\n",
    "print(f\"RMSE optimizat: {rmse_best}\")\n",
    "print(f\"R² optimizat: {r2_best}\")\n"
   ],
   "id": "16881a43bc326121",
   "outputs": [
    {
     "name": "stdout",
     "output_type": "stream",
     "text": [
      "Fitting 5 folds for each of 30 candidates, totalling 150 fits\n",
      "Cei mai buni hiperparametri: {'subsample': 0.8, 'n_estimators': 100, 'max_depth': 5, 'learning_rate': 0.05, 'colsample_bytree': 1.0}\n",
      "RMSE optimizat: 190.68768433191278\n",
      "R² optimizat: 0.5795579152396295\n"
     ]
    }
   ],
   "execution_count": 371
  },
  {
   "metadata": {
    "ExecuteTime": {
     "end_time": "2025-05-06T12:27:44.455298Z",
     "start_time": "2025-05-06T12:27:44.009670Z"
    }
   },
   "cell_type": "code",
   "source": [
    "from sklearn.neighbors import KNeighborsRegressor\n",
    "\n",
    "# Codificare labeluri\n",
    "label_encoder = LabelEncoder()\n",
    "df.loc[:, 'Brand'] = label_encoder.fit_transform(df['Brand'])\n",
    "\n",
    "# Definirea X și y\n",
    "X = df[['RAM', 'Storage', 'Brand']]\n",
    "y = df['Final Price']\n",
    "\n",
    "# imparțire si scalare\n",
    "X_train, X_test, y_train, y_test = train_test_split(X, y, test_size=0.2, random_state=42)\n",
    "scaler = StandardScaler()\n",
    "X_train_scaled = scaler.fit_transform(X_train)\n",
    "X_test_scaled = scaler.transform(X_test)\n",
    "\n",
    "# Dicționar modele\n",
    "models = {\n",
    "    \"Linear Regression\": LinearRegression(),\n",
    "    \"KNN\": KNeighborsRegressor(n_neighbors=5),\n",
    "    \"Random Forest\": RandomForestRegressor(n_estimators=100, random_state=42),\n",
    "    \"XGBoost\": XGBRegressor(n_estimators=100, random_state=42),\n",
    "    \"XGBoost Optimized\": XGBRegressor(n_estimators=100, learning_rate=0.05, max_depth=5,\n",
    "                                      subsample=0.8, colsample_bytree=1.0, random_state=42)\n",
    "}\n",
    "\n",
    "# Rezultate\n",
    "results = []\n",
    "\n",
    "for name, model in models.items():\n",
    "    model.fit(X_train_scaled, y_train)\n",
    "    y_pred = model.predict(X_test_scaled)\n",
    "    rmse = np.sqrt(mean_squared_error(y_test, y_pred))\n",
    "    r2 = r2_score(y_test, y_pred)\n",
    "    results.append({\n",
    "        \"Model\": name,\n",
    "        \"RMSE\": round(rmse, 2),\n",
    "        \"R²\": round(r2, 4)\n",
    "    })\n",
    "\n",
    "# DataFrame cu rezultate\n",
    "results_df = pd.DataFrame(results)\n",
    "print(results_df.sort_values(by=\"RMSE\"))\n"
   ],
   "id": "5fe00b1f89a163b",
   "outputs": [
    {
     "name": "stdout",
     "output_type": "stream",
     "text": [
      "               Model    RMSE      R²\n",
      "3            XGBoost  188.42  0.5895\n",
      "2      Random Forest  188.77  0.5880\n",
      "4  XGBoost Optimized  190.69  0.5796\n",
      "1                KNN  191.81  0.5746\n",
      "0  Linear Regression  230.11  0.3878\n"
     ]
    }
   ],
   "execution_count": 372
  },
  {
   "metadata": {
    "ExecuteTime": {
     "end_time": "2025-05-06T12:27:44.607356Z",
     "start_time": "2025-05-06T12:27:44.602071Z"
    }
   },
   "cell_type": "code",
   "source": [
    "text = '''Am ales dupa cel care se prezinta mai bine la RMSE si la R2 acel algoritm fiind XGBoost '''\n",
    "\n",
    "print(text)"
   ],
   "id": "f7d75ae54b85bf1d",
   "outputs": [
    {
     "name": "stdout",
     "output_type": "stream",
     "text": [
      "Am ales dupa cel care se prezinta mai bine la RMSE si la R2 acel algoritm fiind XGBoost \n"
     ]
    }
   ],
   "execution_count": 373
  }
 ],
 "metadata": {
  "kernelspec": {
   "name": "python3",
   "language": "python",
   "display_name": "Python 3 (ipykernel)"
  }
 },
 "nbformat": 5,
 "nbformat_minor": 9
}
