{
 "cells": [
  {
   "metadata": {
    "ExecuteTime": {
     "end_time": "2025-05-05T12:32:57.678253Z",
     "start_time": "2025-05-05T12:32:57.673280Z"
    }
   },
   "cell_type": "code",
   "source": [
    "import dataset\n",
    "from scipy import stats\n",
    "import pandas as pd\n",
    "import seaborn as sns\n",
    "import numpy as np\n",
    "import matplotlib.pyplot as plt\n",
    "import matplotlib\n",
    "matplotlib.use('TkAgg')"
   ],
   "id": "8f4c914adaf1f5a3",
   "outputs": [],
   "execution_count": 52
  },
  {
   "metadata": {
    "ExecuteTime": {
     "end_time": "2025-05-05T12:32:57.729397Z",
     "start_time": "2025-05-05T12:32:57.703413Z"
    }
   },
   "cell_type": "code",
   "source": [
    "df = pd.read_csv(r\"C:\\Users\\andre\\OneDrive\\Documente\\GitHub\\Smartphone dataset price\\SmartphonePriceDataset\\smartphones.csv\")\n",
    "df['Storage'] = df['Storage'].apply(lambda x: 32 if x < 32 else x)\n",
    "df.fillna(df.median(numeric_only=True), inplace=True)\n",
    "bins = [60, 200, 500, 1000, 2200]\n",
    "labels = ['low', 'medium', 'high', 'premium']\n",
    "df['Price Category'] = pd.cut(df['Final Price'], bins=bins, labels=labels)\n",
    "df\n",
    "\n"
   ],
   "id": "15f95863e0eca52",
   "outputs": [
    {
     "data": {
      "text/plain": [
       "                                            Smartphone     Brand  \\\n",
       "0                   Realme C55 8/256GB Sunshower Libre    Realme   \n",
       "1             Samsung Galaxy M23 5G 4/128GB Azul Libre   Samsung   \n",
       "2         Motorola Moto G13 4/128GB Azul Lavanda Libre  Motorola   \n",
       "3             Xiaomi Redmi Note 11S 6/128GB Gris Libre    Xiaomi   \n",
       "4              Nothing Phone (2) 12/512GB Blanco Libre   Nothing   \n",
       "...                                                ...       ...   \n",
       "1811             Xiaomi Redmi Note 8 4/64GB Azul Libre    Xiaomi   \n",
       "1812   Xiaomi Redmi Note 8T 4/128GB Azul Estelar Libre    Xiaomi   \n",
       "1813          Xiaomi Redmi Note 9 4/128GB Blanco Libre    Xiaomi   \n",
       "1814   Xiaomi Redmi Note 9S 4/64GB Dual SIM Gris Libre    Xiaomi   \n",
       "1815  Xiaomi Redmi Note 9S 6/128GB Dual SIM Gris Libre    Xiaomi   \n",
       "\n",
       "               Model   RAM  Storage   Color Free  Final Price Price Category  \n",
       "0                C55   8.0    256.0  Yellow  Yes       231.60         medium  \n",
       "1         Galaxy M23   4.0    128.0    Blue  Yes       279.00         medium  \n",
       "2           Moto G13   4.0    128.0    Blue  Yes       179.01            low  \n",
       "3     Redmi Note 11S   6.0    128.0    Gray  Yes       279.99         medium  \n",
       "4          Phone (2)  12.0    512.0   White  Yes       799.00           high  \n",
       "...              ...   ...      ...     ...  ...          ...            ...  \n",
       "1811    Redmi Note 8   4.0     64.0    Blue  Yes       249.01         medium  \n",
       "1812   Redmi Note 8T   4.0    128.0    Blue  Yes       200.00            low  \n",
       "1813    Redmi Note 9   4.0    128.0   White  Yes       269.00         medium  \n",
       "1814         Note 9S   4.0     64.0    Gray  Yes       211.00         medium  \n",
       "1815         Note 9S   6.0    128.0    Gray  Yes       289.00         medium  \n",
       "\n",
       "[1816 rows x 9 columns]"
      ],
      "text/html": [
       "<div>\n",
       "<style scoped>\n",
       "    .dataframe tbody tr th:only-of-type {\n",
       "        vertical-align: middle;\n",
       "    }\n",
       "\n",
       "    .dataframe tbody tr th {\n",
       "        vertical-align: top;\n",
       "    }\n",
       "\n",
       "    .dataframe thead th {\n",
       "        text-align: right;\n",
       "    }\n",
       "</style>\n",
       "<table border=\"1\" class=\"dataframe\">\n",
       "  <thead>\n",
       "    <tr style=\"text-align: right;\">\n",
       "      <th></th>\n",
       "      <th>Smartphone</th>\n",
       "      <th>Brand</th>\n",
       "      <th>Model</th>\n",
       "      <th>RAM</th>\n",
       "      <th>Storage</th>\n",
       "      <th>Color</th>\n",
       "      <th>Free</th>\n",
       "      <th>Final Price</th>\n",
       "      <th>Price Category</th>\n",
       "    </tr>\n",
       "  </thead>\n",
       "  <tbody>\n",
       "    <tr>\n",
       "      <th>0</th>\n",
       "      <td>Realme C55 8/256GB Sunshower Libre</td>\n",
       "      <td>Realme</td>\n",
       "      <td>C55</td>\n",
       "      <td>8.0</td>\n",
       "      <td>256.0</td>\n",
       "      <td>Yellow</td>\n",
       "      <td>Yes</td>\n",
       "      <td>231.60</td>\n",
       "      <td>medium</td>\n",
       "    </tr>\n",
       "    <tr>\n",
       "      <th>1</th>\n",
       "      <td>Samsung Galaxy M23 5G 4/128GB Azul Libre</td>\n",
       "      <td>Samsung</td>\n",
       "      <td>Galaxy M23</td>\n",
       "      <td>4.0</td>\n",
       "      <td>128.0</td>\n",
       "      <td>Blue</td>\n",
       "      <td>Yes</td>\n",
       "      <td>279.00</td>\n",
       "      <td>medium</td>\n",
       "    </tr>\n",
       "    <tr>\n",
       "      <th>2</th>\n",
       "      <td>Motorola Moto G13 4/128GB Azul Lavanda Libre</td>\n",
       "      <td>Motorola</td>\n",
       "      <td>Moto G13</td>\n",
       "      <td>4.0</td>\n",
       "      <td>128.0</td>\n",
       "      <td>Blue</td>\n",
       "      <td>Yes</td>\n",
       "      <td>179.01</td>\n",
       "      <td>low</td>\n",
       "    </tr>\n",
       "    <tr>\n",
       "      <th>3</th>\n",
       "      <td>Xiaomi Redmi Note 11S 6/128GB Gris Libre</td>\n",
       "      <td>Xiaomi</td>\n",
       "      <td>Redmi Note 11S</td>\n",
       "      <td>6.0</td>\n",
       "      <td>128.0</td>\n",
       "      <td>Gray</td>\n",
       "      <td>Yes</td>\n",
       "      <td>279.99</td>\n",
       "      <td>medium</td>\n",
       "    </tr>\n",
       "    <tr>\n",
       "      <th>4</th>\n",
       "      <td>Nothing Phone (2) 12/512GB Blanco Libre</td>\n",
       "      <td>Nothing</td>\n",
       "      <td>Phone (2)</td>\n",
       "      <td>12.0</td>\n",
       "      <td>512.0</td>\n",
       "      <td>White</td>\n",
       "      <td>Yes</td>\n",
       "      <td>799.00</td>\n",
       "      <td>high</td>\n",
       "    </tr>\n",
       "    <tr>\n",
       "      <th>...</th>\n",
       "      <td>...</td>\n",
       "      <td>...</td>\n",
       "      <td>...</td>\n",
       "      <td>...</td>\n",
       "      <td>...</td>\n",
       "      <td>...</td>\n",
       "      <td>...</td>\n",
       "      <td>...</td>\n",
       "      <td>...</td>\n",
       "    </tr>\n",
       "    <tr>\n",
       "      <th>1811</th>\n",
       "      <td>Xiaomi Redmi Note 8 4/64GB Azul Libre</td>\n",
       "      <td>Xiaomi</td>\n",
       "      <td>Redmi Note 8</td>\n",
       "      <td>4.0</td>\n",
       "      <td>64.0</td>\n",
       "      <td>Blue</td>\n",
       "      <td>Yes</td>\n",
       "      <td>249.01</td>\n",
       "      <td>medium</td>\n",
       "    </tr>\n",
       "    <tr>\n",
       "      <th>1812</th>\n",
       "      <td>Xiaomi Redmi Note 8T 4/128GB Azul Estelar Libre</td>\n",
       "      <td>Xiaomi</td>\n",
       "      <td>Redmi Note 8T</td>\n",
       "      <td>4.0</td>\n",
       "      <td>128.0</td>\n",
       "      <td>Blue</td>\n",
       "      <td>Yes</td>\n",
       "      <td>200.00</td>\n",
       "      <td>low</td>\n",
       "    </tr>\n",
       "    <tr>\n",
       "      <th>1813</th>\n",
       "      <td>Xiaomi Redmi Note 9 4/128GB Blanco Libre</td>\n",
       "      <td>Xiaomi</td>\n",
       "      <td>Redmi Note 9</td>\n",
       "      <td>4.0</td>\n",
       "      <td>128.0</td>\n",
       "      <td>White</td>\n",
       "      <td>Yes</td>\n",
       "      <td>269.00</td>\n",
       "      <td>medium</td>\n",
       "    </tr>\n",
       "    <tr>\n",
       "      <th>1814</th>\n",
       "      <td>Xiaomi Redmi Note 9S 4/64GB Dual SIM Gris Libre</td>\n",
       "      <td>Xiaomi</td>\n",
       "      <td>Note 9S</td>\n",
       "      <td>4.0</td>\n",
       "      <td>64.0</td>\n",
       "      <td>Gray</td>\n",
       "      <td>Yes</td>\n",
       "      <td>211.00</td>\n",
       "      <td>medium</td>\n",
       "    </tr>\n",
       "    <tr>\n",
       "      <th>1815</th>\n",
       "      <td>Xiaomi Redmi Note 9S 6/128GB Dual SIM Gris Libre</td>\n",
       "      <td>Xiaomi</td>\n",
       "      <td>Note 9S</td>\n",
       "      <td>6.0</td>\n",
       "      <td>128.0</td>\n",
       "      <td>Gray</td>\n",
       "      <td>Yes</td>\n",
       "      <td>289.00</td>\n",
       "      <td>medium</td>\n",
       "    </tr>\n",
       "  </tbody>\n",
       "</table>\n",
       "<p>1816 rows × 9 columns</p>\n",
       "</div>"
      ]
     },
     "execution_count": 53,
     "metadata": {},
     "output_type": "execute_result"
    }
   ],
   "execution_count": 53
  },
  {
   "metadata": {
    "ExecuteTime": {
     "end_time": "2025-05-05T12:32:57.853479Z",
     "start_time": "2025-05-05T12:32:57.843783Z"
    }
   },
   "cell_type": "code",
   "source": [
    "Q1 = df['Final Price'].quantile(0.25)\n",
    "Q3 = df['Final Price'].quantile(0.75)\n",
    "IQR = Q3 - Q1\n",
    "lower_bound = Q1 - 1.5 * IQR\n",
    "upper_bound = Q3 + 1.5 * IQR\n",
    "\n",
    "df = df[(df['Final Price'] >= lower_bound) & (df['Final Price'] <= upper_bound)]\n"
   ],
   "id": "ddba44ae9deb2850",
   "outputs": [],
   "execution_count": 54
  },
  {
   "metadata": {
    "ExecuteTime": {
     "end_time": "2025-05-05T12:32:57.940758Z",
     "start_time": "2025-05-05T12:32:57.936106Z"
    }
   },
   "cell_type": "code",
   "source": [
    "text = '''Datasetul este format din 1816 randuri si este pe 9 coloane:\n",
    "1. Numele Smartphone-ului\n",
    "2. Modelul\n",
    "3. RAM (Memorie cu Acces Aleator)\n",
    "4. Spatiul de Stocare\n",
    "5. Culoare\n",
    "6. Free (indica daca are sau nu un contract cu o companie de telefonie mobila)\n",
    "7. Pretul smartphone-ului\n",
    "8. Categorie de Pret : consta luxul telefonului bazat pe intru-n interval de pret\n",
    "idei-------------------:Numar de vanzari'''\n",
    "\n",
    "print(text)\n"
   ],
   "id": "3131cbc306f66268",
   "outputs": [
    {
     "name": "stdout",
     "output_type": "stream",
     "text": [
      "Datasetul este format din 1816 randuri si este pe 9 coloane:\n",
      "1. Numele Smartphone-ului\n",
      "2. Modelul\n",
      "3. RAM (Memorie cu Acces Aleator)\n",
      "4. Spatiul de Stocare\n",
      "5. Culoare\n",
      "6. Free (indica daca are sau nu un contract cu o companie de telefonie mobila)\n",
      "7. Pretul smartphone-ului\n",
      "8. Categorie de Pret : consta luxul telefonului bazat pe intru-n interval de pret\n",
      "idei-------------------:Numar de vanzari\n"
     ]
    }
   ],
   "execution_count": 55
  },
  {
   "metadata": {
    "ExecuteTime": {
     "end_time": "2025-05-05T12:32:58.020988Z",
     "start_time": "2025-05-05T12:32:58.013625Z"
    }
   },
   "cell_type": "code",
   "source": [
    "print(f\"Număr de rânduri: {df.shape[0]}\")\n",
    "print(f\"Număr de coloane: {df.shape[1]}\")"
   ],
   "id": "78e129c2300a97e3",
   "outputs": [
    {
     "name": "stdout",
     "output_type": "stream",
     "text": [
      "Număr de rânduri: 1722\n",
      "Număr de coloane: 9\n"
     ]
    }
   ],
   "execution_count": 56
  },
  {
   "metadata": {
    "ExecuteTime": {
     "end_time": "2025-05-05T12:32:58.096525Z",
     "start_time": "2025-05-05T12:32:58.074972Z"
    }
   },
   "cell_type": "code",
   "source": [
    "print(\"Coloanele datasetului sunt:\")\n",
    "print(df.columns)\n",
    "print(\"\\n\")\n",
    "print(\"Tipurile de dataset-ului :\\n\")\n",
    "print(df.dtypes)\n",
    "print(\"\\n\")\n",
    "print(df.describe())\n",
    "print(\"\\n\")\n",
    "\n",
    "print(\"Valori Not A Number : \")\n",
    "print(df.isnull().sum())\n",
    "print(df.describe())\n"
   ],
   "id": "e9884d690b88285d",
   "outputs": [
    {
     "name": "stdout",
     "output_type": "stream",
     "text": [
      "Coloanele datasetului sunt:\n",
      "Index(['Smartphone', 'Brand', 'Model', 'RAM', 'Storage', 'Color', 'Free',\n",
      "       'Final Price', 'Price Category'],\n",
      "      dtype='object')\n",
      "\n",
      "\n",
      "Tipurile de dataset-ului :\n",
      "\n",
      "Smartphone          object\n",
      "Brand               object\n",
      "Model               object\n",
      "RAM                float64\n",
      "Storage            float64\n",
      "Color               object\n",
      "Free                object\n",
      "Final Price        float64\n",
      "Price Category    category\n",
      "dtype: object\n",
      "\n",
      "\n",
      "               RAM      Storage  Final Price\n",
      "count  1722.000000  1722.000000  1722.000000\n",
      "mean      5.901278   145.119628   430.052178\n",
      "std       2.257046   101.003683   300.486656\n",
      "min       1.000000    32.000000    60.460000\n",
      "25%       4.000000    64.000000   199.000000\n",
      "50%       6.000000   128.000000   327.990000\n",
      "75%       8.000000   256.000000   589.000000\n",
      "max      12.000000  1000.000000  1326.030000\n",
      "\n",
      "\n",
      "Valori Not A Number : \n",
      "Smartphone        0\n",
      "Brand             0\n",
      "Model             0\n",
      "RAM               0\n",
      "Storage           0\n",
      "Color             0\n",
      "Free              0\n",
      "Final Price       0\n",
      "Price Category    0\n",
      "dtype: int64\n",
      "               RAM      Storage  Final Price\n",
      "count  1722.000000  1722.000000  1722.000000\n",
      "mean      5.901278   145.119628   430.052178\n",
      "std       2.257046   101.003683   300.486656\n",
      "min       1.000000    32.000000    60.460000\n",
      "25%       4.000000    64.000000   199.000000\n",
      "50%       6.000000   128.000000   327.990000\n",
      "75%       8.000000   256.000000   589.000000\n",
      "max      12.000000  1000.000000  1326.030000\n"
     ]
    }
   ],
   "execution_count": 57
  },
  {
   "metadata": {
    "ExecuteTime": {
     "end_time": "2025-05-05T12:32:59.959261Z",
     "start_time": "2025-05-05T12:32:58.185132Z"
    }
   },
   "cell_type": "code",
   "source": [
    "plt.figure(figsize=(8, 6))\n",
    "df['Final Price'].hist(bins=30, edgecolor='black')\n",
    "plt.title('Distributia Preturilor')\n",
    "plt.xlabel('Final Price')\n",
    "plt.ylabel('Frecventa')\n",
    "plt.show(block=True)\n"
   ],
   "id": "d5883a6e876c97e9",
   "outputs": [],
   "execution_count": 58
  },
  {
   "metadata": {
    "ExecuteTime": {
     "end_time": "2025-05-05T12:33:00.011079Z",
     "start_time": "2025-05-05T12:33:00.002287Z"
    }
   },
   "cell_type": "code",
   "source": [
    "def gini_index(data, target_column):\n",
    "    class_counts = data[target_column].value_counts(normalize=True)\n",
    "    gini = 1 - sum(class_counts**2)\n",
    "    return gini\n",
    "\n",
    "gini = gini_index(df, 'Price Category')\n",
    "print(f\"Gini Index pentru 'Price Category': {gini}\")"
   ],
   "id": "cde8e04597a8b309",
   "outputs": [
    {
     "name": "stdout",
     "output_type": "stream",
     "text": [
      "Gini Index pentru 'Price Category': 0.6860192817956055\n"
     ]
    }
   ],
   "execution_count": 59
  },
  {
   "metadata": {
    "ExecuteTime": {
     "end_time": "2025-05-05T12:33:00.086371Z",
     "start_time": "2025-05-05T12:33:00.064348Z"
    }
   },
   "cell_type": "code",
   "source": [
    "def gini_for_attribute(data, attribute, target_column):\n",
    "    grouped = data.groupby(attribute)\n",
    "    gini_values = {}\n",
    "\n",
    "    for group, subset in grouped:\n",
    "        gini_values[group] = gini_index(subset, target_column)\n",
    "\n",
    "    return gini_values\n",
    "\n",
    "gini_values_for_brand = gini_for_attribute(df, 'Brand', 'Price Category')\n",
    "print(\"Gini Index pentru fiecare brand:\", gini_values_for_brand)"
   ],
   "id": "c75c645fc3b572a9",
   "outputs": [
    {
     "name": "stdout",
     "output_type": "stream",
     "text": [
      "Gini Index pentru fiecare brand: {'Alcatel': 0.24489795918367352, 'Apple': 0.7097875828153815, 'Asus': 0.6666666666666667, 'BQ': 0.0, 'Blackview': 0.49382716049382713, 'CAT': 0.6111111111111112, 'Crosscall': 0.48979591836734704, 'Cubot': 0.4377162629757785, 'Doro': 0.4444444444444444, 'Fairphone': 0.0, 'Funker': 0.0, 'Gigaset': 0.4444444444444444, 'Google': 0.6666666666666667, 'Hammer': 0.5804988662131519, 'Honor': 0.470414201183432, 'Huawei': 0.5921822099107419, 'LG': 0.0, 'Lenovo': 0.0, 'Maxcom': 0.0, 'Microsoft': 0.0, 'Motorola': 0.6531240381655894, 'Nokia': 0.5416666666666666, 'Nothing': 0.19753086419753085, 'OPPO': 0.6304347826086957, 'OnePlus': 0.48979591836734704, 'POCO': 0.4219202494987747, 'Qubo': 0.0, 'Realme': 0.5785667324128863, 'SPC': 0.0, 'Samsung': 0.6931721737743577, 'Sony': 0.5, 'Swissvoice': 0.0, 'TCL': 0.4521604938271605, 'Ulefone': 0.5711111111111111, 'Vivo': 0.5898491083676268, 'Xiaomi': 0.6021461235950445, 'ZTE': 0.0}\n"
     ]
    }
   ],
   "execution_count": 60
  },
  {
   "metadata": {
    "ExecuteTime": {
     "end_time": "2025-05-05T12:33:00.148714Z",
     "start_time": "2025-05-05T12:33:00.141717Z"
    }
   },
   "cell_type": "code",
   "source": [
    "import numpy as np\n",
    "\n",
    "def entropy(data):\n",
    "    class_counts = data['Price Category'].value_counts(normalize=True)\n",
    "\n",
    "    class_counts = class_counts[class_counts > 0]\n",
    "    return -np.sum(class_counts * np.log2(class_counts))\n",
    "\n",
    "parent_entropy = entropy(df)\n",
    "print(f\"Entropia pentru întregul set de date: {parent_entropy}\")\n"
   ],
   "id": "a29d7abbe95d055c",
   "outputs": [
    {
     "name": "stdout",
     "output_type": "stream",
     "text": [
      "Entropia pentru întregul set de date: 1.7928240994534357\n"
     ]
    }
   ],
   "execution_count": 61
  },
  {
   "metadata": {
    "ExecuteTime": {
     "end_time": "2025-05-05T12:33:00.293363Z",
     "start_time": "2025-05-05T12:33:00.204691Z"
    }
   },
   "cell_type": "code",
   "source": [
    "# Functie pentru calcularea Information Gain pe baza unui atribut\n",
    "def information_gain(data, attribute):\n",
    "    parent_entropy = entropy(data)\n",
    "\n",
    "    grouped = data.groupby(attribute)\n",
    "    weighted_entropy = 0\n",
    "    for group, subset in grouped:\n",
    "        weighted_entropy += (len(subset) / len(data)) * entropy(subset)\n",
    "    return parent_entropy - weighted_entropy\n",
    "\n",
    "info_gain = information_gain(df, 'Brand')\n",
    "print(f\"Information Gain pentru 'Brand': {info_gain}\")\n",
    "info_gain = information_gain(df, 'Storage')\n",
    "print(f\"Information Gain pentru 'Storage': {info_gain}\")\n",
    "info_gain = information_gain(df, 'RAM')\n",
    "print(f\"Information Gain pentru 'RAM': {info_gain}\")\n",
    "info_gain = information_gain(df, 'Brand')\n",
    "print(f\"Information Gain pentru 'Brand': {info_gain}\")"
   ],
   "id": "e452f2b8de400026",
   "outputs": [
    {
     "name": "stdout",
     "output_type": "stream",
     "text": [
      "Information Gain pentru 'Brand': 0.26251049121179326\n",
      "Information Gain pentru 'Storage': 0.3982473850517898\n",
      "Information Gain pentru 'RAM': 0.42673224769343276\n",
      "Information Gain pentru 'Brand': 0.26251049121179326\n"
     ]
    }
   ],
   "execution_count": 62
  },
  {
   "metadata": {
    "ExecuteTime": {
     "end_time": "2025-05-05T12:33:00.353705Z",
     "start_time": "2025-05-05T12:33:00.346046Z"
    }
   },
   "cell_type": "code",
   "source": [
    "# Calcularea corelatiei dintre 'Final Price' și 'RAM','Storage'\n",
    "correlation = df['Final Price'].corr(df['Storage'])\n",
    "print(f\"Corelatia dintre 'Final Price' si 'Storage': {correlation}\")\n",
    "correlation = df['Final Price'].corr(df['RAM'])\n",
    "print(f\"Corelatia dintre 'Final Price' si 'RAM': {correlation}\")"
   ],
   "id": "451acfb1a9de285b",
   "outputs": [
    {
     "name": "stdout",
     "output_type": "stream",
     "text": [
      "Corelatia dintre 'Final Price' si 'Storage': 0.5821433839604104\n",
      "Corelatia dintre 'Final Price' si 'RAM': 0.4946746366627295\n"
     ]
    }
   ],
   "execution_count": 63
  },
  {
   "metadata": {
    "ExecuteTime": {
     "end_time": "2025-05-05T12:33:00.453198Z",
     "start_time": "2025-05-05T12:33:00.438083Z"
    }
   },
   "cell_type": "code",
   "source": [
    "numeric_columns = df.select_dtypes(include=['number'])\n",
    "numeric_columns"
   ],
   "id": "b01e16664b8b6b42",
   "outputs": [
    {
     "data": {
      "text/plain": [
       "       RAM  Storage  Final Price\n",
       "0      8.0    256.0       231.60\n",
       "1      4.0    128.0       279.00\n",
       "2      4.0    128.0       179.01\n",
       "3      6.0    128.0       279.99\n",
       "4     12.0    512.0       799.00\n",
       "...    ...      ...          ...\n",
       "1811   4.0     64.0       249.01\n",
       "1812   4.0    128.0       200.00\n",
       "1813   4.0    128.0       269.00\n",
       "1814   4.0     64.0       211.00\n",
       "1815   6.0    128.0       289.00\n",
       "\n",
       "[1722 rows x 3 columns]"
      ],
      "text/html": [
       "<div>\n",
       "<style scoped>\n",
       "    .dataframe tbody tr th:only-of-type {\n",
       "        vertical-align: middle;\n",
       "    }\n",
       "\n",
       "    .dataframe tbody tr th {\n",
       "        vertical-align: top;\n",
       "    }\n",
       "\n",
       "    .dataframe thead th {\n",
       "        text-align: right;\n",
       "    }\n",
       "</style>\n",
       "<table border=\"1\" class=\"dataframe\">\n",
       "  <thead>\n",
       "    <tr style=\"text-align: right;\">\n",
       "      <th></th>\n",
       "      <th>RAM</th>\n",
       "      <th>Storage</th>\n",
       "      <th>Final Price</th>\n",
       "    </tr>\n",
       "  </thead>\n",
       "  <tbody>\n",
       "    <tr>\n",
       "      <th>0</th>\n",
       "      <td>8.0</td>\n",
       "      <td>256.0</td>\n",
       "      <td>231.60</td>\n",
       "    </tr>\n",
       "    <tr>\n",
       "      <th>1</th>\n",
       "      <td>4.0</td>\n",
       "      <td>128.0</td>\n",
       "      <td>279.00</td>\n",
       "    </tr>\n",
       "    <tr>\n",
       "      <th>2</th>\n",
       "      <td>4.0</td>\n",
       "      <td>128.0</td>\n",
       "      <td>179.01</td>\n",
       "    </tr>\n",
       "    <tr>\n",
       "      <th>3</th>\n",
       "      <td>6.0</td>\n",
       "      <td>128.0</td>\n",
       "      <td>279.99</td>\n",
       "    </tr>\n",
       "    <tr>\n",
       "      <th>4</th>\n",
       "      <td>12.0</td>\n",
       "      <td>512.0</td>\n",
       "      <td>799.00</td>\n",
       "    </tr>\n",
       "    <tr>\n",
       "      <th>...</th>\n",
       "      <td>...</td>\n",
       "      <td>...</td>\n",
       "      <td>...</td>\n",
       "    </tr>\n",
       "    <tr>\n",
       "      <th>1811</th>\n",
       "      <td>4.0</td>\n",
       "      <td>64.0</td>\n",
       "      <td>249.01</td>\n",
       "    </tr>\n",
       "    <tr>\n",
       "      <th>1812</th>\n",
       "      <td>4.0</td>\n",
       "      <td>128.0</td>\n",
       "      <td>200.00</td>\n",
       "    </tr>\n",
       "    <tr>\n",
       "      <th>1813</th>\n",
       "      <td>4.0</td>\n",
       "      <td>128.0</td>\n",
       "      <td>269.00</td>\n",
       "    </tr>\n",
       "    <tr>\n",
       "      <th>1814</th>\n",
       "      <td>4.0</td>\n",
       "      <td>64.0</td>\n",
       "      <td>211.00</td>\n",
       "    </tr>\n",
       "    <tr>\n",
       "      <th>1815</th>\n",
       "      <td>6.0</td>\n",
       "      <td>128.0</td>\n",
       "      <td>289.00</td>\n",
       "    </tr>\n",
       "  </tbody>\n",
       "</table>\n",
       "<p>1722 rows × 3 columns</p>\n",
       "</div>"
      ]
     },
     "execution_count": 64,
     "metadata": {},
     "output_type": "execute_result"
    }
   ],
   "execution_count": 64
  },
  {
   "metadata": {
    "ExecuteTime": {
     "end_time": "2025-05-05T12:33:01.749425Z",
     "start_time": "2025-05-05T12:33:00.530833Z"
    }
   },
   "cell_type": "code",
   "source": [
    "correlation_matrix = numeric_columns.corr()\n",
    "\n",
    "plt.figure(figsize=(8, 6))\n",
    "sns.heatmap(correlation_matrix, annot=True, cmap='coolwarm', fmt=\".2f\")\n",
    "plt.title('Correlation Matrix')\n",
    "plt.show()"
   ],
   "id": "2baea4fb751fcf71",
   "outputs": [],
   "execution_count": 65
  }
 ],
 "metadata": {
  "kernelspec": {
   "name": "python3",
   "language": "python",
   "display_name": "Python 3 (ipykernel)"
  }
 },
 "nbformat": 5,
 "nbformat_minor": 9
}
